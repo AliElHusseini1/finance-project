{
 "cells": [
  {
   "cell_type": "markdown",
   "id": "79f2a16e",
   "metadata": {},
   "source": [
    "#### Import Libraries\n",
    "\n",
    "pandas - Analysis and manipulation of data\n",
    "\n",
    "sklearn - Evaluates and Forms Machine learning models\n",
    "\n",
    "matplotlib - Visualization of the Data\n",
    "\n",
    "sqlite3 - Integration of Database (Using SQL)"
   ]
  },
  {
   "cell_type": "code",
   "execution_count": 86,
   "id": "c53595ba",
   "metadata": {},
   "outputs": [],
   "source": [
    "# Import Libraries\n",
    "import pandas as pd\n",
    "import matplotlib.pyplot as plt\n",
    "\n",
    "from sklearn.ensemble import RandomForestClassifier\n",
    "from sklearn.model_selection import train_test_split\n",
    "from sklearn.metrics import accuracy_score\n",
    "\n",
    "import sqlite3"
   ]
  },
  {
   "cell_type": "markdown",
   "id": "872e3ad4",
   "metadata": {},
   "source": [
    "#### Loading Data\n",
    "\n",
    "The credit card transactional data is converted from a csv format into a pandas dataframe, allowing for ease of analysis.\n",
    "\n",
    "The dataframe is split into 2 sections, **X** and **y**. All columns of the dataframe are kept in variable **X**, except \"Class\". On the other hand, section y only constains \"Class\" column. The values in the column indicate whether a transaction is fraudulent (1) or legitimate (0).\n",
    "\n",
    "The key idea of this concept is to train the model to find patterns within X, which would help us predict **y**. "
   ]
  },
  {
   "cell_type": "code",
   "execution_count": 87,
   "id": "0facdd95",
   "metadata": {},
   "outputs": [],
   "source": [
    "# Data Loading\n",
    "df = pd.read_csv(\"creditcard.csv\")\n",
    "\n",
    "# Data Preparation\n",
    "X = df.drop('Class', axis=1)  # Features\n",
    "y = df['Class']               # Target"
   ]
  },
  {
   "cell_type": "markdown",
   "id": "9a373e60",
   "metadata": {},
   "source": [
    "#### Training and Testing Models\n",
    "\n",
    "\n",
    "Credit Card Transactions contains sensitive information and so to encrpyt the details and protect the privacy of the customers, values are stored in encripted variables (V1-V28). The machine learning model uses 80% of the transactions (X_train, y_train) to learn what constitues a fraudulent payments, allowing us to predict the remaining 20%. The result is tested against the actual results to determine the accuracy of our prediction."
   ]
  },
  {
   "cell_type": "code",
   "execution_count": 88,
   "id": "3d23a9f6",
   "metadata": {},
   "outputs": [
    {
     "name": "stdout",
     "output_type": "stream",
     "text": [
      "Accuracy of test sample: 0.9997\n",
      "Detected 26 fraud cases, out of 29\n"
     ]
    }
   ],
   "source": [
    "# Splitting the data\n",
    "\n",
    "X_train, X_test, y_train, y_test = train_test_split(X, y, test_size=0.2)\n",
    "\n",
    "# Training with Random Forest Model\n",
    "\n",
    "model = RandomForestClassifier()\n",
    "model.fit(X_train, y_train)\n",
    "\n",
    "# Test Model\n",
    "predictions = model.predict(X_test)\n",
    "print(f\"Accuracy of test sample: {accuracy_score(y_test, predictions)}\")\n",
    "\n",
    "# Fraud Detection Check\n",
    "# printing type(y_test), suggest a panda series\n",
    "fraud_count = sum(y_test == 1)\n",
    "# & is used rather than \"and\", otherwise error\n",
    "detected_fraud = sum((y_test == 1) & (predictions == 1))\n",
    "print(f\"Detected {detected_fraud} fraud cases, out of {fraud_count}\")"
   ]
  },
  {
   "cell_type": "markdown",
   "id": "161d2862",
   "metadata": {},
   "source": [
    "#### Implementing SQLite to Filter the Database\n",
    "\n",
    "A database called fraud.db is created to allow sql to be implemented. The dataframe **df** is stored into the sql database (fraud.db) within a table called transactions"
   ]
  },
  {
   "cell_type": "code",
   "execution_count": 89,
   "id": "4f77e39a",
   "metadata": {},
   "outputs": [],
   "source": [
    "# Create SQLite Database\n",
    "\n",
    "link = sqlite3.connect('fraud.db')\n",
    "df.to_sql('transactions', link, if_exists='replace')\n",
    "\n",
    "# query = \"\"\" SELECT.... \"\"\" allows for easier readability\n",
    "query = \"\"\"\n",
    "SELECT * \n",
    "FROM transactions \n",
    "WHERE Amount > 1000 \n",
    "ORDER BY Time DESC \n",
    "LIMIT 100\n",
    "\"\"\"\n",
    "\n",
    "high_value_transaction = pd.read_sql(query, link)\n"
   ]
  },
  {
   "cell_type": "markdown",
   "id": "2193a8bc",
   "metadata": {},
   "source": [
    "#### Visualization"
   ]
  },
  {
   "cell_type": "code",
   "execution_count": 90,
   "id": "56bac8bc",
   "metadata": {},
   "outputs": [
    {
     "data": {
      "image/png": "[encoded data removed]",
      "text/plain": [
       "<Figure size 640x480 with 1 Axes>"
      ]
     },
     "metadata": {},
     "output_type": "display_data"
    }
   ],
   "source": [
    "df['Class'].value_counts().plot(kind='bar')\n",
    "plt.title('Fraud vs Normal Transactions');"
   ]
  },
  {
   "cell_type": "code",
   "execution_count": 91,
   "id": "306bd6ea",
   "metadata": {},
   "outputs": [
    {
     "name": "stdout",
     "output_type": "stream",
     "text": [
      "Average fraud amount: £100.17\n"
     ]
    }
   ],
   "source": [
    "# Create a fraud-only DataFrame\n",
    "fraud_df = df[df['Class'] == 1]\n",
    "\n",
    "# Then calculate average\n",
    "avg_fraud_amount = fraud_df['Amount'].mean()\n",
    "\n",
    "print(f\"Average fraud amount: £{avg_fraud_amount:.2f}\")"
   ]
  },
  {
   "cell_type": "code",
   "execution_count": null,
   "id": "bc9d84a4",
   "metadata": {},
   "outputs": [],
   "source": []
  },
  {
   "cell_type": "code",
   "execution_count": null,
   "id": "7bcd457f",
   "metadata": {},
   "outputs": [],
   "source": []
  }
 ],
 "metadata": {
  "kernelspec": {
   "display_name": "Python 3",
   "language": "python",
   "name": "python3"
  },
  "language_info": {
   "codemirror_mode": {
    "name": "ipython",
    "version": 3
   },
   "file_extension": ".py",
   "mimetype": "text/x-python",
   "name": "python",
   "nbconvert_exporter": "python",
   "pygments_lexer": "ipython3",
   "version": "3.9.6"
  }
 },
 "nbformat": 4,
 "nbformat_minor": 5
}
